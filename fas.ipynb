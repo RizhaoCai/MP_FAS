{
 "cells": [
  {
   "cell_type": "markdown",
   "metadata": {},
   "source": [
    "# Data Generating and Preprocessing"
   ]
  },
  {
   "cell_type": "code",
   "execution_count": null,
   "metadata": {},
   "outputs": [],
   "source": [
    "# !git clone https://github.com/jinnyjinny/MetaPattern_FAS.git"
   ]
  },
  {
   "cell_type": "code",
   "execution_count": null,
   "metadata": {},
   "outputs": [],
   "source": [
    "# !wget --no-check-certificate \\\n",
    "# https://storage.googleapis.com/mledu-datasets/cats_and_dogs_filtered.zip \\\n",
    "# -O ./cats_and_dogs_filtered.zip"
   ]
  },
  {
   "cell_type": "code",
   "execution_count": null,
   "metadata": {},
   "outputs": [],
   "source": [
    "import os\n",
    "import zipfile\n",
    "\n",
    "local_zip = '/root/Desktop/workspace/meta-learning/FAS/cats_and_dogs_filtered.zip'\n",
    "zip_ref = zipfile.ZipFile(local_zip, 'r')\n",
    "zip_ref.extractall('./')\n",
    "zip_ref.close()"
   ]
  },
  {
   "cell_type": "code",
   "execution_count": null,
   "metadata": {},
   "outputs": [],
   "source": [
    "base_dir = '/root/Desktop/workspace/meta-learning/FAS/cats_and_dogs_filtered'\n",
    "train_dir = os.path.join(base_dir, 'train')\n",
    "validation_dir = os.path.join(base_dir, 'validation')\n",
    "\n",
    "# Directory with our training cat pictures\n",
    "train_cats_dir = os.path.join(train_dir, 'cats')\n",
    "\n",
    "# Directory with our training dog pictures\n",
    "train_dogs_dir = os.path.join(train_dir, 'dogs')\n",
    "\n",
    "# Directory with our validation cat pictures\n",
    "validation_cats_dir = os.path.join(validation_dir, 'cats')\n",
    "\n",
    "# Directory with our validation dog pictures\n",
    "validation_dogs_dir = os.path.join(validation_dir, 'dogs')"
   ]
  },
  {
   "cell_type": "code",
   "execution_count": null,
   "metadata": {},
   "outputs": [],
   "source": [
    "train_cat_fnames = os.listdir(train_cats_dir)\n",
    "print(train_cat_fnames[:10])\n",
    "\n",
    "train_dog_fnames = os.listdir(train_dogs_dir)\n",
    "train_dog_fnames.sort()\n",
    "print(train_dog_fnames[:10])"
   ]
  },
  {
   "cell_type": "code",
   "execution_count": null,
   "metadata": {},
   "outputs": [],
   "source": [
    "import os\n",
    "import shutil\n",
    "from sklearn.model_selection import train_test_split\n",
    "\n",
    "def split_cat_dog_dataset(data_path, output_path):\n",
    "    cat_folder = os.path.join(data_path, \"cats\")\n",
    "    dog_folder = os.path.join(data_path, \"dogs\")\n",
    "\n",
    "    if not os.path.exists(cat_folder) or not os.path.exists(dog_folder):\n",
    "        print(f\"Error: {cat_folder} or {dog_folder} does not exist.\")\n",
    "        return\n",
    "\n",
    "    # Collect image paths\n",
    "    cat_files = [os.path.join(cat_folder, f) for f in os.listdir(cat_folder) if f.endswith(\".jpg\")]\n",
    "    dog_files = [os.path.join(dog_folder, f) for f in os.listdir(dog_folder) if f.endswith(\".jpg\")]\n",
    "\n",
    "    print(f\"Found {len(cat_files)} cat images and {len(dog_files)} dog images.\")\n",
    "\n",
    "    # Split data into subsets\n",
    "    train_cats, tgt_cats = train_test_split(cat_files, test_size=0.25, random_state=42)\n",
    "    src1_cats, src2_cats = train_test_split(train_cats, test_size=0.5, random_state=42)\n",
    "    src3_cats, src1_cats = train_test_split(src1_cats, test_size=0.5, random_state=42)\n",
    "\n",
    "    train_dogs, tgt_dogs = train_test_split(dog_files, test_size=0.25, random_state=42)\n",
    "    src1_dogs, src2_dogs = train_test_split(train_dogs, test_size=0.5, random_state=42)\n",
    "    src3_dogs, src1_dogs = train_test_split(src1_dogs, test_size=0.5, random_state=42)\n",
    "\n",
    "    # Save subsets\n",
    "    subsets = {\n",
    "        \"src1_train_spoofing\": src1_cats,\n",
    "        \"src1_train_live\": src1_dogs,\n",
    "        \"src2_train_spoofing\": src2_cats,\n",
    "        \"src2_train_live\": src2_dogs,\n",
    "        \"src3_train_spoofing\": src3_cats,\n",
    "        \"src3_train_live\": src3_dogs,\n",
    "    }\n",
    "\n",
    "    # tgt 통합 데이터셋\n",
    "    tgt_files = tgt_cats + tgt_dogs  # Combine spoofing (cats) and live (dogs)\n",
    "    tgt_dir = os.path.join(output_path, \"src4_test\")\n",
    "    os.makedirs(tgt_dir, exist_ok=True)\n",
    "\n",
    "    # Helper function to determine label\n",
    "    def get_label(file_path):\n",
    "        if \"cat\" in file_path.split('/')[-1].lower():\n",
    "            return \"spoof\"\n",
    "        elif \"dog\" in file_path.split('/')[-1].lower():\n",
    "            return \"live\"\n",
    "        return None  # If file doesn't match expected labels\n",
    "\n",
    "    # Create output directories and save files\n",
    "    for subset_name, subset_files in subsets.items():\n",
    "        subset_dir = os.path.join(output_path, subset_name)\n",
    "        os.makedirs(subset_dir, exist_ok=True)\n",
    "\n",
    "        # Save image files in the corresponding folder\n",
    "        new_file_paths = []\n",
    "        for file_path in subset_files:\n",
    "            label = get_label(file_path)\n",
    "            if label is None:\n",
    "                continue  # Skip files that don't match expected labels\n",
    "\n",
    "            new_file_name = f\"{label}_{os.path.basename(file_path)}\"\n",
    "            new_path = os.path.join(subset_dir, new_file_name)\n",
    "            shutil.copy(file_path, new_path)\n",
    "            new_file_paths.append(new_path)  # Save new path for the txt file\n",
    "\n",
    "    # Save tgt dataset as a single list\n",
    "    tgt_file_paths = []\n",
    "    for file_path in tgt_files:\n",
    "        label = get_label(file_path)\n",
    "        if label is None:\n",
    "            continue  # Skip files that don't match expected labels\n",
    "\n",
    "        new_file_name = f\"{label}_{os.path.basename(file_path)}\"\n",
    "        new_path = os.path.join(tgt_dir, new_file_name)\n",
    "        shutil.copy(file_path, new_path)\n",
    "        tgt_file_paths.append(new_path)\n",
    "\n",
    "    print(\"Dataset split and saved at:\", output_path)\n",
    "\n",
    "# Paths\n",
    "original_data_path = \"/root/Desktop/workspace/meta-learning/FAS/cats_and_dogs_filtered/train\"\n",
    "output_data_path = \"./data/FAS_data\"\n",
    "\n",
    "# Split the dataset\n",
    "split_cat_dog_dataset(original_data_path, output_data_path)"
   ]
  },
  {
   "cell_type": "code",
   "execution_count": null,
   "metadata": {},
   "outputs": [],
   "source": [
    "import os\n",
    "import cv2\n",
    "\n",
    "def make_data_list(input_data_path=None, output_data_path=None):\n",
    "    \"\"\"\n",
    "    Generate labeled data list files for face anti-spoofing dataset.\n",
    "\n",
    "    Args:\n",
    "        input_data_path (str): Path to the input dataset directory.\n",
    "        output_data_path (str): Path to save the output data list files.\n",
    "    \"\"\"\n",
    "    if input_data_path is None:\n",
    "        input_data_path = \"FAS_data\"\n",
    "    if output_data_path is None:\n",
    "        output_data_path = \"data_list\"\n",
    "\n",
    "    # Use input folder name as prefix\n",
    "    prefix = os.path.basename(os.path.normpath(input_data_path))\n",
    "\n",
    "    # Ensure output directory exists\n",
    "    os.makedirs(output_data_path, exist_ok=True)\n",
    "\n",
    "    for root, _, files in os.walk(input_data_path):  # Search all directories under input_data_path\n",
    "        for file in files:\n",
    "            if file.endswith(\".jpg\"):\n",
    "                file_path = os.path.abspath(os.path.join(root, file))  # Convert to absolute path\n",
    "                height, width, channels = 0, 0, 0\n",
    "\n",
    "                # Read image dimensions\n",
    "                img = cv2.imread(file_path)\n",
    "                if img is not None:\n",
    "                    height, width, channels = img.shape\n",
    "\n",
    "                # Determine list file name and label\n",
    "                list_file = None\n",
    "                if \"test\" in root.lower():\n",
    "                    if \"live\" in root.lower():\n",
    "                        list_file = f\"{prefix}-TEST-REAL.txt\"\n",
    "                        face_label = \"0\"\n",
    "                    elif \"spoof\" in root.lower():\n",
    "                        list_file = f\"{prefix}-TEST-FAKE.txt\"\n",
    "                        face_label = \"1\"\n",
    "                    else:\n",
    "                        list_file = f\"{prefix}-TEST-ALL.txt\"\n",
    "                        face_label = \"1\" if \"spoof\" in file.lower() else \"0\"\n",
    "                elif \"train\" in root.lower() or \"dev\" in root.lower():\n",
    "                    if \"live\" in root.lower():\n",
    "                        list_file = f\"{prefix}-TRAIN-REAL.txt\"\n",
    "                        face_label = \"0\"\n",
    "                    elif \"spoof\" in root.lower():\n",
    "                        list_file = f\"{prefix}-TRAIN-FAKE.txt\"\n",
    "                        face_label = \"1\"\n",
    "                    else:\n",
    "                        list_file = f\"{prefix}-TRAIN-ALL.txt\"\n",
    "                        face_label = \"1\" if \"spoof\" in file.lower() else \"0\"\n",
    "\n",
    "                # Skip if list_file is not assigned\n",
    "                if list_file is None:\n",
    "                    continue\n",
    "\n",
    "                # Create the full path for the list file\n",
    "                list_file_path = os.path.abspath(os.path.join(output_data_path, list_file))\n",
    "\n",
    "                # Append data to the list file\n",
    "                with open(list_file_path, \"a\") as f:\n",
    "                    f.write(f\"{file_path},{face_label},{height},{width}\\n\")\n",
    "\n",
    "    print(f\"Data lists for {prefix} created in: {output_data_path}\")\n",
    "    return True\n",
    "\n",
    "# 반복적으로 호출하여 하위 폴더 처리\n",
    "def process_all_folders(root_folder, output_data_path):\n",
    "    \"\"\"\n",
    "    Process all subfolders in the root folder to create data lists.\n",
    "\n",
    "    Args:\n",
    "        root_folder (str): Root directory containing subfolders to process.\n",
    "        output_data_path (str): Path to save the output data list files.\n",
    "    \"\"\"\n",
    "    for sub_folder in os.listdir(root_folder):\n",
    "        sub_folder_path = os.path.join(root_folder, sub_folder)\n",
    "        if os.path.isdir(sub_folder_path):  # Check if it's a directory\n",
    "            print(f\"Processing folder: {sub_folder_path}\")\n",
    "            make_data_list(input_data_path=sub_folder_path, output_data_path=output_data_path)\n",
    "\n",
    "\n",
    "process_all_folders(root_folder='./data/FAS_data', output_data_path='./data/data_list')"
   ]
  },
  {
   "cell_type": "markdown",
   "metadata": {},
   "source": [
    "# Meta Pattern model training"
   ]
  },
  {
   "cell_type": "code",
   "execution_count": null,
   "metadata": {},
   "outputs": [],
   "source": [
    "# import os\n",
    "# os.chdir(\"./MetaPattern_FAS\")\n",
    "# print(\"Current working directory:\", os.getcwd())"
   ]
  },
  {
   "cell_type": "code",
   "execution_count": null,
   "metadata": {},
   "outputs": [],
   "source": [
    "from models.HFN_MP import custom_config\n",
    "\n",
    "# Config 초기화\n",
    "config = custom_config.get_cfg_custom()\n",
    "# 필요에 따라 Config 수정\n",
    "\n",
    "# ========================FOR DATA=========================\n",
    "config.DATA.ROOT_DIR = \"/root/Desktop/workspace/meta-learning/MetaPattern_FAS/data\"\n",
    "dl_root_dir = \"/root/Desktop/workspace/meta-learning/MetaPattern_FAS/data/data_list\"\n",
    "config.DATA.TARGET_DATA = dl_root_dir + \"/src4_test-TEST-ALL.txt\"\n",
    "config.DATA.TRAIN_SRC_FAKE_1 = dl_root_dir + \"/src1_train_spoofing-TRAIN-FAKE.txt\"\n",
    "config.DATA.TRAIN_SRC_FAKE_2 = dl_root_dir + \"/src2_train_spoofing-TRAIN-FAKE.txt\"\n",
    "config.DATA.TRAIN_SRC_FAKE_3 = dl_root_dir + \"/src3_train_spoofing-TRAIN-FAKE.txt\"\n",
    "config.DATA.TRAIN_SRC_REAL_1 = dl_root_dir + \"/src1_train_live-TRAIN-REAL.txt\"\n",
    "config.DATA.TRAIN_SRC_REAL_2 = dl_root_dir + \"/src2_train_live-TRAIN-REAL.txt\"\n",
    "config.DATA.TRAIN_SRC_REAL_3 = dl_root_dir + \"/src3_train_live-TRAIN-REAL.txt\"\n",
    "config.OUTPUT_DIR = \"/root/Desktop/workspace/meta-learning/MetaPattern_FAS/data/output/tmp\"\n",
    "config.DATA.DATASET='ZipDataset'\n",
    "\n",
    "config.DATA.BATCH_SIZE = 4\n",
    "\n",
    "config.NORM_FLAG = True\n",
    "config.SEED = 42\n",
    "config.DEBUG = False\n",
    "\n",
    "# ========================FOR TRIANING=========================\n",
    "config.TRAIN.INIT_LR = 0.001\n",
    "config.TRAIN.LR_EPOCH_1 = 0\n",
    "config.TRAIN.LR_EPOCH_2 = 150\n",
    "config.TRAIN.MOMENTUM = 0.9\n",
    "config.TRAIN.WEIGHT_DECAY = 5e-4 # \n",
    "config.TRAIN.WEIGHT_DECAY_T = 0.0 # ColorNet for TRANSFORMER\n",
    "config.TRAIN.MAX_ITER = 1000# 1000000\n",
    "config.TRAIN.META_TRAIN_SIZE = 2\n",
    "config.TRAIN.ITER_PER_EPOCH = 32 #100\n",
    "config.TRAIN.META_PRE_TRAIN = True\n",
    "config.TRAIN.DROPOUT = 0.1\n",
    "config.TRAIN.SYNC_TRAINING = False\n",
    "config.TRAIN.IMAGENET_PRETRAIN = True\n",
    "config.TRAIN.RESUME = '' # Path to the resume ckpt\n",
    "config.TRAIN.LR_PATIENCE = 0\n",
    "config.TRAIN.PATIENCE = 100\n",
    "config.TRAIN.SAVE_BEST = True # Only save the best model while training\n",
    "config.TRAIN.PRINT_FREQ = 100\n",
    "config.TRAIN.VAL_FREQ = 1\n",
    "config.TRAIN.W_depth = 10\n",
    "config.TRAIN.W_metatest = 1\n",
    "config.TRAIN.META_LEARNING_RATE = 0.0001\n",
    "config.TRAIN.BETAS = [0.9, 0.999]\n",
    "config.TRAIN.VAL_FREQ = 20\n",
    "config.TRAIN.NUM_FRAMES = 100\n",
    "config.TRAIN.INNER_LOOPS = 2\n",
    "\n",
    "config.TRAIN.OPTIM = 'Adam' # Adam\n"
   ]
  },
  {
   "cell_type": "code",
   "execution_count": null,
   "metadata": {},
   "outputs": [],
   "source": [
    "from models.HFN_MP.dataset import get_data_loader\n",
    "\n",
    "# Get data loaders|\n",
    "data_loaders = get_data_loader(config)\n",
    "\n",
    "src1_train_dataloader_fake, src1_train_dataloader_real, \\\n",
    "src2_train_dataloader_fake, src2_train_dataloader_real, \\\n",
    "src3_train_dataloader_fake, src3_train_dataloader_real, \\\n",
    "tgt_dataloader = data_loaders"
   ]
  },
  {
   "cell_type": "code",
   "execution_count": null,
   "metadata": {},
   "outputs": [],
   "source": [
    "# !python models/HFN_MP/network.py"
   ]
  },
  {
   "cell_type": "code",
   "execution_count": null,
   "metadata": {},
   "outputs": [],
   "source": [
    "# from models.HFN_MP.trainer import Trainer"
   ]
  },
  {
   "cell_type": "code",
   "execution_count": null,
   "metadata": {},
   "outputs": [],
   "source": [
    "# Trainer(config).train()"
   ]
  },
  {
   "cell_type": "code",
   "execution_count": null,
   "metadata": {},
   "outputs": [],
   "source": [
    "config.TRAIN.INNER_LR = 0.001\n",
    "config.TRAIN.META_LEARNING_RATE = 0.0001\n",
    "config.TRAIN.INNER_LOOPS = 5\n",
    "config.TRAIN.PRETRAIN_HFN = True\n",
    "config.TRAIN.PRETRAIN_ITER = 1000"
   ]
  },
  {
   "cell_type": "code",
   "execution_count": null,
   "metadata": {},
   "outputs": [],
   "source": [
    "from models.HFN_MP.meta_trainer import MetaTrainerManager"
   ]
  },
  {
   "cell_type": "code",
   "execution_count": null,
   "metadata": {},
   "outputs": [],
   "source": [
    "meta_trainer = MetaTrainerManager(config)\n",
    "meta_trainer.train(pe_method='maml', hfn_method='maml')\n"
   ]
  },
  {
   "cell_type": "code",
   "execution_count": null,
   "metadata": {},
   "outputs": [],
   "source": [
    "meta_trainer = MetaTrainerManager(config)\n",
    "meta_trainer.train(pe_method='reptile', hfn_method='reptile')"
   ]
  },
  {
   "cell_type": "code",
   "execution_count": null,
   "metadata": {},
   "outputs": [],
   "source": [
    "meta_trainer = MetaTrainerManager(config)\n",
    "meta_trainer.train(pe_method='base', hfn_method='base')"
   ]
  },
  {
   "cell_type": "code",
   "execution_count": null,
   "metadata": {},
   "outputs": [],
   "source": [
    "meta_trainer = MetaTrainerManager(config)\n",
    "meta_trainer.train(pe_method='maml', hfn_method='reptile')"
   ]
  },
  {
   "cell_type": "code",
   "execution_count": null,
   "metadata": {},
   "outputs": [],
   "source": [
    "meta_trainer = MetaTrainerManager(config)\n",
    "meta_trainer.train(pe_method='reptile', hfn_method='maml')"
   ]
  },
  {
   "cell_type": "code",
   "execution_count": null,
   "metadata": {},
   "outputs": [],
   "source": [
    "meta_trainer = MetaTrainerManager(config)\n",
    "meta_trainer.train(pe_method='base', hfn_method='maml')"
   ]
  },
  {
   "cell_type": "code",
   "execution_count": null,
   "metadata": {},
   "outputs": [],
   "source": [
    "meta_trainer = MetaTrainerManager(config)\n",
    "meta_trainer.train(pe_method='maml', hfn_method='base')"
   ]
  },
  {
   "cell_type": "code",
   "execution_count": null,
   "metadata": {},
   "outputs": [],
   "source": [
    "meta_trainer = MetaTrainerManager(config)\n",
    "meta_trainer.train(pe_method='reptile', hfn_method='base')"
   ]
  },
  {
   "cell_type": "code",
   "execution_count": null,
   "metadata": {},
   "outputs": [],
   "source": [
    "meta_trainer = MetaTrainerManager(config)\n",
    "meta_trainer.train(pe_method='base', hfn_method='reptile')"
   ]
  },
  {
   "cell_type": "code",
   "execution_count": null,
   "metadata": {},
   "outputs": [],
   "source": []
  },
  {
   "cell_type": "code",
   "execution_count": null,
   "metadata": {},
   "outputs": [],
   "source": []
  }
 ],
 "metadata": {
  "kernelspec": {
   "display_name": "fas-env",
   "language": "python",
   "name": "python3"
  },
  "language_info": {
   "codemirror_mode": {
    "name": "ipython",
    "version": 3
   },
   "file_extension": ".py",
   "mimetype": "text/x-python",
   "name": "python",
   "nbconvert_exporter": "python",
   "pygments_lexer": "ipython3",
   "version": "3.9.20"
  },
  "toc": {
   "base_numbering": 1,
   "nav_menu": {},
   "number_sections": false,
   "sideBar": true,
   "skip_h1_title": false,
   "title_cell": "Table of Contents",
   "title_sidebar": "Contents",
   "toc_cell": false,
   "toc_position": {},
   "toc_section_display": true,
   "toc_window_display": false
  }
 },
 "nbformat": 4,
 "nbformat_minor": 2
}
